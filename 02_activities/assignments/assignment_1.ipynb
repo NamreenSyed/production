{
 "cells": [
  {
   "cell_type": "markdown",
   "metadata": {},
   "source": [
    "# Working with parquet files\n",
    "\n",
    "## Objective\n",
    "\n",
    "+ In this assignment, we will use the data downloaded with the module `data_manager` to create features.\n",
    "\n",
    "(11 pts total)\n",
    "\n",
    "## Prerequisites\n",
    "\n",
    "+ This notebook assumes that price data is available to you in the environment variable `PRICE_DATA`. If you have not done so, then execute the notebook `01_materials/labs/2_data_engineering.ipynb` to create this data set.\n"
   ]
  },
  {
   "cell_type": "markdown",
   "metadata": {},
   "source": [
    "+ Load the environment variables using dotenv. (1 pt)"
   ]
  },
  {
   "cell_type": "code",
   "execution_count": 4,
   "metadata": {},
   "outputs": [],
   "source": [
    "# Write your code below.\n",
    "%load_ext dotenv\n",
    "%dotenv ../../01_materials/labs/.env\n"
   ]
  },
  {
   "cell_type": "code",
   "execution_count": 8,
   "metadata": {},
   "outputs": [
    {
     "name": "stderr",
     "output_type": "stream",
     "text": [
      "c:\\Users\\syednamr\\AppData\\Local\\miniconda3\\envs\\dsi_participant\\lib\\site-packages\\dask\\dataframe\\_pyarrow_compat.py:17: FutureWarning: Minimal version of pyarrow will soon be increased to 14.0.1. You are using 10.0.1. Please consider upgrading.\n",
      "  warnings.warn(\n"
     ]
    }
   ],
   "source": [
    "import dask.dataframe as dd"
   ]
  },
  {
   "cell_type": "markdown",
   "metadata": {},
   "source": [
    "+ Load the environment variable `PRICE_DATA`.\n",
    "+ Use [glob](https://docs.python.org/3/library/glob.html) to find the path of all parquet files in the directory `PRICE_DATA`.\n",
    "\n",
    "(1pt)"
   ]
  },
  {
   "cell_type": "code",
   "execution_count": 28,
   "metadata": {},
   "outputs": [],
   "source": [
    "import os\n",
    "import glob\n",
    "\n",
    "price_data_dir = os.getenv('PRICE_DATA')\n",
    "parquet_files = glob.glob(os.path.join(price_data_dir, '**', '*.parquet'), recursive=True)\n"
   ]
  },
  {
   "cell_type": "markdown",
   "metadata": {},
   "source": [
    "For each ticker and using Dask, do the following:\n",
    "\n",
    "+ Add lags for variables Close and Adj_Close.\n",
    "+ Add returns based on Adjusted Close:\n",
    "    \n",
    "    - `returns`: (Adj Close / Adj Close_lag) - 1\n",
    "\n",
    "+ Add the following range: \n",
    "\n",
    "    - `hi_lo_range`: this is the day's High minus Low.\n",
    "\n",
    "+ Assign the result to `dd_feat`.\n",
    "\n",
    "(4 pt)"
   ]
  },
  {
   "cell_type": "code",
   "execution_count": 26,
   "metadata": {},
   "outputs": [
    {
     "name": "stdout",
     "output_type": "stream",
     "text": [
      "             Date       Open       High        Low      Close  Adj Close  \\\n",
      "ticker                                                                     \n",
      "A      2000-01-03  56.330471  56.464592  48.193848  51.502148  43.463024   \n",
      "A      2000-01-04  48.730328  49.266811  46.316166  47.567955  40.142937   \n",
      "A      2000-01-05  47.389126  47.567955  43.141991  44.617310  37.652866   \n",
      "A      2000-01-06  44.080830  44.349072  41.577251  42.918453  36.219173   \n",
      "A      2000-01-07  42.247852  47.165592  42.203148  46.494991  39.237438   \n",
      "\n",
      "         Volume       sector                       subsector  year  Close_lag  \\\n",
      "ticker                                                                          \n",
      "A       4674353  Health Care  Life Sciences Tools & Services  2000        NaN   \n",
      "A       4765083  Health Care  Life Sciences Tools & Services  2000  51.502148   \n",
      "A       5758642  Health Care  Life Sciences Tools & Services  2000  47.567955   \n",
      "A       2534434  Health Care  Life Sciences Tools & Services  2000  44.617310   \n",
      "A       2819626  Health Care  Life Sciences Tools & Services  2000  42.918453   \n",
      "\n",
      "        Adj_Close_lag   returns  hi_lo_range  \n",
      "ticker                                        \n",
      "A                 NaN       NaN     8.270744  \n",
      "A           43.463024 -0.076389     2.950645  \n",
      "A           40.142937 -0.062030     4.425964  \n",
      "A           37.652866 -0.038077     2.771820  \n",
      "A           36.219173  0.083333     4.962444  \n"
     ]
    },
    {
     "name": "stderr",
     "output_type": "stream",
     "text": [
      "C:\\Users\\syednamr\\AppData\\Local\\Temp\\ipykernel_5864\\2042698438.py:7: UserWarning: `meta` is not specified, inferred from partial data. Please provide `meta` if the result is unexpected.\n",
      "  Before: .apply(func)\n",
      "  After:  .apply(func, meta={'x': 'f8', 'y': 'f8'}) for dataframe result\n",
      "  or:     .apply(func, meta=('x', 'f8'))            for series result\n",
      "  dd_px['Close_lag'] = dd_px.groupby('ticker')['Close'].shift(1)\n",
      "C:\\Users\\syednamr\\AppData\\Local\\Temp\\ipykernel_5864\\2042698438.py:8: UserWarning: `meta` is not specified, inferred from partial data. Please provide `meta` if the result is unexpected.\n",
      "  Before: .apply(func)\n",
      "  After:  .apply(func, meta={'x': 'f8', 'y': 'f8'}) for dataframe result\n",
      "  or:     .apply(func, meta=('x', 'f8'))            for series result\n",
      "  dd_px['Adj_Close_lag'] = dd_px.groupby('ticker')['Adj Close'].shift(1)\n"
     ]
    }
   ],
   "source": [
    "# Write your code below.\n",
    "dd_feat_list = []\n",
    "\n",
    "for file in parquet_files:\n",
    "    dd_px = dd.read_parquet(file, engine=\"pyarrow\")\n",
    "\n",
    "    dd_px['Close_lag'] = dd_px.groupby('ticker')['Close'].shift(1)\n",
    "    dd_px['Adj_Close_lag'] = dd_px.groupby('ticker')['Adj Close'].shift(1)\n",
    "    dd_px['returns'] = (dd_px['Adj Close'] / dd_px['Adj_Close_lag']) - 1\n",
    "    dd_px['hi_lo_range'] = dd_px['High'] - dd_px['Low']\n",
    "    \n",
    "    dd_feat_list.append(dd_px)\n",
    "\n",
    "dd_feat = dd.concat(dd_feat_list)\n",
    "dd_feat = dd_feat.compute()\n",
    "\n",
    "print(dd_feat.head())"
   ]
  },
  {
   "cell_type": "markdown",
   "metadata": {},
   "source": [
    "+ Convert the Dask data frame to a pandas data frame. \n",
    "+ Add a rolling average return calculation with a window of 10 days.\n",
    "+ *Tip*: Consider using `.rolling(10).mean()`.\n",
    "\n",
    "(3 pt)"
   ]
  },
  {
   "cell_type": "code",
   "execution_count": 27,
   "metadata": {},
   "outputs": [
    {
     "name": "stdout",
     "output_type": "stream",
     "text": [
      "             Date       Open       High        Low      Close  Adj Close  \\\n",
      "ticker                                                                     \n",
      "A      2000-01-03  56.330471  56.464592  48.193848  51.502148  43.463024   \n",
      "A      2000-01-04  48.730328  49.266811  46.316166  47.567955  40.142937   \n",
      "A      2000-01-05  47.389126  47.567955  43.141991  44.617310  37.652866   \n",
      "A      2000-01-06  44.080830  44.349072  41.577251  42.918453  36.219173   \n",
      "A      2000-01-07  42.247852  47.165592  42.203148  46.494991  39.237438   \n",
      "\n",
      "         Volume       sector                       subsector  year  Close_lag  \\\n",
      "ticker                                                                          \n",
      "A       4674353  Health Care  Life Sciences Tools & Services  2000        NaN   \n",
      "A       4765083  Health Care  Life Sciences Tools & Services  2000  51.502148   \n",
      "A       5758642  Health Care  Life Sciences Tools & Services  2000  47.567955   \n",
      "A       2534434  Health Care  Life Sciences Tools & Services  2000  44.617310   \n",
      "A       2819626  Health Care  Life Sciences Tools & Services  2000  42.918453   \n",
      "\n",
      "        Adj_Close_lag   returns  hi_lo_range  rolling_return  \n",
      "ticker                                                        \n",
      "A                 NaN       NaN     8.270744             NaN  \n",
      "A           43.463024 -0.076389     2.950645       -0.076389  \n",
      "A           40.142937 -0.062030     4.425964       -0.069209  \n",
      "A           37.652866 -0.038077     2.771820       -0.058832  \n",
      "A           36.219173  0.083333     4.962444       -0.023291  \n"
     ]
    }
   ],
   "source": [
    "# Write your code below.\n",
    "dd_feat['rolling_return'] = dd_feat.groupby('ticker')['returns'].rolling(10, min_periods=1).mean().reset_index(level=0, drop=True)\n",
    "print(dd_feat.head())"
   ]
  },
  {
   "cell_type": "markdown",
   "metadata": {},
   "source": [
    "Please comment:\n",
    "\n",
    "+ Was it necessary to convert to pandas to calculate the moving average return?\n",
    "+ Would it have been better to do it in Dask? Why?\n",
    "\n",
    "(1 pt)\n",
    "\n",
    "It is possible to accomplish the moving average return in both Pandas and Dask, but Pandas is a bit simpler to use than Dask, and it is easier to produce quicker solutions using Pandas. Unfortunately, Pandas is limited by memory constraints, so it is not always possible to use it when the data is too large in volume.\n",
    "\n",
    "It would not have been better to do it in Dask, because Pandas is simpler to use; however, given the memory limits, it wouldn't be possible."
   ]
  },
  {
   "cell_type": "markdown",
   "metadata": {},
   "source": [
    "## Criteria\n",
    "\n",
    "The [rubric](./assignment_1_rubric_clean.xlsx) contains the criteria for grading."
   ]
  },
  {
   "cell_type": "markdown",
   "metadata": {},
   "source": [
    "## Submission Information\n",
    "\n",
    "🚨 **Please review our [Assignment Submission Guide](https://github.com/UofT-DSI/onboarding/blob/main/onboarding_documents/submissions.md)** 🚨 for detailed instructions on how to format, branch, and submit your work. Following these guidelines is crucial for your submissions to be evaluated correctly.\n",
    "\n",
    "### Submission Parameters:\n",
    "* Submission Due Date: `HH:MM AM/PM - DD/MM/YYYY`\n",
    "* The branch name for your repo should be: `assignment-1`\n",
    "* What to submit for this assignment:\n",
    "    * This Jupyter Notebook (assignment_1.ipynb) should be populated and should be the only change in your pull request.\n",
    "* What the pull request link should look like for this assignment: `https://github.com/<your_github_username>/production/pull/<pr_id>`\n",
    "    * Open a private window in your browser. Copy and paste the link to your pull request into the address bar. Make sure you can see your pull request properly. This helps the technical facilitator and learning support staff review your submission easily.\n",
    "\n",
    "Checklist:\n",
    "- [ ] Created a branch with the correct naming convention.\n",
    "- [ ] Ensured that the repository is public.\n",
    "- [ ] Reviewed the PR description guidelines and adhered to them.\n",
    "- [ ] Verify that the link is accessible in a private browser window.\n",
    "\n",
    "If you encounter any difficulties or have questions, please don't hesitate to reach out to our team via our Slack at `#cohort-3-help`. Our Technical Facilitators and Learning Support staff are here to help you navigate any challenges."
   ]
  }
 ],
 "metadata": {
  "kernelspec": {
   "display_name": "env",
   "language": "python",
   "name": "python3"
  },
  "language_info": {
   "codemirror_mode": {
    "name": "ipython",
    "version": 3
   },
   "file_extension": ".py",
   "mimetype": "text/x-python",
   "name": "python",
   "nbconvert_exporter": "python",
   "pygments_lexer": "ipython3",
   "version": "3.11.0"
  }
 },
 "nbformat": 4,
 "nbformat_minor": 2
}
